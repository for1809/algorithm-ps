{
 "cells": [
  {
   "cell_type": "code",
   "id": "initial_id",
   "metadata": {
    "collapsed": true,
    "ExecuteTime": {
     "end_time": "2025-01-28T11:13:10.606441Z",
     "start_time": "2025-01-28T11:13:10.595035Z"
    }
   },
   "source": [
    "'''\n",
    "문제\n",
    "(A+B)%C는 ((A%C) + (B%C))%C 와 같을까?\n",
    "\n",
    "(A×B)%C는 ((A%C) × (B%C))%C 와 같을까?\n",
    "\n",
    "세 수 A, B, C가 주어졌을 때, 위의 네 가지 값을 구하는 프로그램을 작성하시오.\n",
    "\n",
    "입력\n",
    "첫째 줄에 A, B, C가 순서대로 주어진다. (2 ≤ A, B, C ≤ 10000)\n",
    "\n",
    "출력\n",
    "첫째 줄에 (A+B)%C, 둘째 줄에 ((A%C) + (B%C))%C, 셋째 줄에 (A×B)%C, 넷째 줄에 ((A%C) × (B%C))%C를 출력한다.\n",
    "'''"
   ],
   "outputs": [
    {
     "data": {
      "text/plain": [
       "'\\n문제\\n(A+B)%C는 ((A%C) + (B%C))%C 와 같을까?\\n\\n(A×B)%C는 ((A%C) × (B%C))%C 와 같을까?\\n\\n세 수 A, B, C가 주어졌을 때, 위의 네 가지 값을 구하는 프로그램을 작성하시오.\\n\\n입력\\n첫째 줄에 A, B, C가 순서대로 주어진다. (2 ≤ A, B, C ≤ 10000)\\n\\n출력\\n첫째 줄에 (A+B)%C, 둘째 줄에 ((A%C) + (B%C))%C, 셋째 줄에 (A×B)%C, 넷째 줄에 ((A%C) × (B%C))%C를 출력한다.\\n'"
      ]
     },
     "execution_count": 1,
     "metadata": {},
     "output_type": "execute_result"
    }
   ],
   "execution_count": 1
  },
  {
   "metadata": {
    "ExecuteTime": {
     "end_time": "2025-01-28T11:15:32.489618Z",
     "start_time": "2025-01-28T11:15:26.079568Z"
    }
   },
   "cell_type": "code",
   "source": [
    "a, b, c = list(map(int, input().split()))\n",
    "print((a + b) % c)\n",
    "print(((a % c) + (b % c)) % c)\n",
    "print(a * b % c)\n",
    "print(((a % c) * (b % c)) % c)"
   ],
   "id": "91dc6e9710f1b846",
   "outputs": [
    {
     "name": "stdout",
     "output_type": "stream",
     "text": [
      "1\n",
      "1\n",
      "0\n",
      "0\n"
     ]
    }
   ],
   "execution_count": 2
  },
  {
   "metadata": {},
   "cell_type": "code",
   "outputs": [],
   "execution_count": null,
   "source": "",
   "id": "d998908befd98e10"
  }
 ],
 "metadata": {
  "kernelspec": {
   "display_name": "Python 3",
   "language": "python",
   "name": "python3"
  },
  "language_info": {
   "codemirror_mode": {
    "name": "ipython",
    "version": 2
   },
   "file_extension": ".py",
   "mimetype": "text/x-python",
   "name": "python",
   "nbconvert_exporter": "python",
   "pygments_lexer": "ipython2",
   "version": "2.7.6"
  }
 },
 "nbformat": 4,
 "nbformat_minor": 5
}
